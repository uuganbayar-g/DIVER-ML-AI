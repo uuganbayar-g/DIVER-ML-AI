{
  "nbformat": 4,
  "nbformat_minor": 0,
  "metadata": {
    "colab": {
      "name": "Untitled0.ipynb",
      "provenance": [],
      "toc_visible": true,
      "authorship_tag": "ABX9TyPYYObkp0nS77WjLaraX73N",
      "include_colab_link": true
    },
    "kernelspec": {
      "name": "python3",
      "display_name": "Python 3"
    },
    "language_info": {
      "name": "python"
    },
    "accelerator": "GPU",
    "gpuClass": "standard"
  },
  "cells": [
    {
      "cell_type": "markdown",
      "metadata": {
        "id": "view-in-github",
        "colab_type": "text"
      },
      "source": [
        "<a href=\"https://colab.research.google.com/github/uuganbayar-g/DIVER-ML-AI/blob/main/Untitled0.ipynb\" target=\"_parent\"><img src=\"https://colab.research.google.com/assets/colab-badge.svg\" alt=\"Open In Colab\"/></a>"
      ]
    },
    {
      "cell_type": "code",
      "execution_count": null,
      "metadata": {
        "colab": {
          "base_uri": "https://localhost:8080/"
        },
        "id": "aHtvzkWi-UME",
        "outputId": "858eedd1-d6d4-474e-945d-271dfc7472a1"
      },
      "outputs": [
        {
          "output_type": "stream",
          "name": "stdout",
          "text": [
            "Hello, World\n",
            "Hello, Python\n"
          ]
        }
      ],
      "source": [
        "print(\"Hello, World\")\n",
        "print(\"Hello, Python\")\n"
      ]
    },
    {
      "cell_type": "markdown",
      "source": [
        "эхний програм"
      ],
      "metadata": {
        "id": "bzVgJJ_a-0ZA"
      }
    },
    {
      "cell_type": "code",
      "source": [
        "num= 5+3\n",
        "print(num)"
      ],
      "metadata": {
        "colab": {
          "base_uri": "https://localhost:8080/"
        },
        "id": "8tYx2LA7-8O1",
        "outputId": "64c15b94-739a-4e35-a037-8468e65fdfc7"
      },
      "execution_count": null,
      "outputs": [
        {
          "output_type": "stream",
          "name": "stdout",
          "text": [
            "8\n"
          ]
        }
      ]
    },
    {
      "cell_type": "code",
      "source": [
        "print(2**1)\n",
        "print(float(2.0))\n",
        "print(type((2.0)))\n",
        "a,b = 100,50\n",
        "print(a)\n",
        "z=1\n",
        "z+=5\n",
        "print(z)"
      ],
      "metadata": {
        "colab": {
          "base_uri": "https://localhost:8080/"
        },
        "id": "0UL9oL0cjgGa",
        "outputId": "3502b27c-61fd-4332-f6b8-8aaed7a2bc5b"
      },
      "execution_count": 6,
      "outputs": [
        {
          "output_type": "stream",
          "name": "stdout",
          "text": [
            "2\n",
            "2.0\n",
            "<class 'float'>\n",
            "100\n",
            "6\n"
          ]
        }
      ]
    },
    {
      "cell_type": "markdown",
      "source": [
        "working with the text in python"
      ],
      "metadata": {
        "id": "p8IB9tsXmhRf"
      }
    },
    {
      "cell_type": "code",
      "source": [
        "my_name = \"Uugan\"\n",
        "print(\"My name is \"+my_name+\".\")\n",
        "temp = 25\n",
        "weather_text = \"unuudriin tsag agaar {}, {} gradus baina.\"\n",
        "weather_text = weather_text.format(\"tselmeg\",temp)\n",
        "print(weather_text)\n",
        "\n",
        "temp_high = 28.33\n",
        "temp_low = 19.25\n",
        "\n",
        "print(\"Өнөөдрийн цаг агаар хамгийн халуундаа {0:.1f}, хамгийн сэрүүндээ {1:.1f} байна.\".format(temp_high,temp_low))\n",
        "student_age = 35\n",
        "print(\"学生の年齢{}\".format(student_age))\n",
        "print(\"学生の年齢\", student_age, sep=\"\")\n",
        "print(\"学生の年齢\"+str(student_age))"
      ],
      "metadata": {
        "colab": {
          "base_uri": "https://localhost:8080/"
        },
        "id": "ZXmktHTPmqJs",
        "outputId": "56cb790f-e6a3-42bf-d6c0-b080094dfb10"
      },
      "execution_count": 22,
      "outputs": [
        {
          "output_type": "stream",
          "name": "stdout",
          "text": [
            "My name is Uugan.\n",
            "unuudriin tsag agaar tselmeg, 25 gradus baina.\n",
            "Өнөөдрийн цаг агаар хамгийн халуундаа 28.3, хамгийн сэрүүндээ 19.2 байна.\n",
            "学生の年齢35\n",
            "学生の年齢35\n",
            "学生の年齢35\n"
          ]
        }
      ]
    },
    {
      "cell_type": "markdown",
      "source": [
        "массив буюу пайтен дээр жагсаалттай ажиллах"
      ],
      "metadata": {
        "id": "nXY95JXGr-N0"
      }
    },
    {
      "cell_type": "code",
      "source": [
        "monthly_average_temperatures = [6, 7, 9, 15, 20, 22, 27, 26, 23, 17, 12, 7]\n",
        "print(monthly_average_temperatures)\n",
        "print(type(monthly_average_temperatures))\n",
        "\n",
        "\n",
        "print(monthly_average_temperatures[5])\n",
        "monthly_average_temperatures[5] = 24\n",
        "print(monthly_average_temperatures[5])\n",
        "\n",
        "print(monthly_average_temperatures[::2])"
      ],
      "metadata": {
        "colab": {
          "base_uri": "https://localhost:8080/"
        },
        "id": "xbwizI1ysG2M",
        "outputId": "4393c4d3-136d-4127-86bc-12b16f0e2330"
      },
      "execution_count": 25,
      "outputs": [
        {
          "output_type": "stream",
          "name": "stdout",
          "text": [
            "[6, 7, 9, 15, 20, 22, 27, 26, 23, 17, 12, 7]\n",
            "<class 'list'>\n",
            "22\n",
            "24\n",
            "[6, 9, 20, 27, 23, 12]\n"
          ]
        }
      ]
    },
    {
      "cell_type": "code",
      "source": [
        "for k in range(15):\n",
        "  print(k)"
      ],
      "metadata": {
        "colab": {
          "base_uri": "https://localhost:8080/"
        },
        "id": "NLOVwTORm_Yd",
        "outputId": "8e713d10-a560-4369-9d1f-30f61d6bee87"
      },
      "execution_count": 5,
      "outputs": [
        {
          "output_type": "stream",
          "name": "stdout",
          "text": [
            "0\n",
            "1\n",
            "2\n",
            "3\n",
            "4\n",
            "5\n",
            "6\n",
            "7\n",
            "8\n",
            "9\n",
            "10\n",
            "11\n",
            "12\n",
            "13\n",
            "14\n"
          ]
        }
      ]
    },
    {
      "cell_type": "code",
      "source": [
        "num = 0\n",
        "while True:\n",
        "  print(num)\n",
        "  num += 3\n",
        "  if num >= 10:\n",
        "    break"
      ],
      "metadata": {
        "colab": {
          "base_uri": "https://localhost:8080/"
        },
        "id": "_TdMXzmQ3f2K",
        "outputId": "42d4aa23-4ba0-4410-b359-77593a380d12"
      },
      "execution_count": 7,
      "outputs": [
        {
          "output_type": "stream",
          "name": "stdout",
          "text": [
            "0\n",
            "3\n",
            "6\n",
            "9\n"
          ]
        }
      ]
    },
    {
      "cell_type": "code",
      "source": [
        "def add(a,b):\n",
        "  return(a+b)\n",
        "add(3,6)\n",
        "\n",
        "num = 0\n",
        "while True:\n",
        "  print(num)\n",
        "  num += 3\n",
        "  if num >= 10:\n",
        "    break\n",
        "\n"
      ],
      "metadata": {
        "colab": {
          "base_uri": "https://localhost:8080/"
        },
        "id": "TERYdv4w4JMj",
        "outputId": "8f1dabd0-2f58-4687-afd5-afcf7a184c67"
      },
      "execution_count": 11,
      "outputs": [
        {
          "output_type": "stream",
          "name": "stdout",
          "text": [
            "0\n",
            "3\n",
            "6\n",
            "9\n"
          ]
        }
      ]
    },
    {
      "cell_type": "code",
      "source": [
        "import numpy as np\n",
        "\n",
        "a = np.array([[1,2,3],[4,5,6]])\n",
        "type(a)\n",
        "a.ndim\n",
        "\n",
        "np.sum(a)\n",
        "a.sum()\n",
        "\n",
        "\n",
        "\n",
        "\n"
      ],
      "metadata": {
        "colab": {
          "base_uri": "https://localhost:8080/"
        },
        "id": "0_U45WRWHVfC",
        "outputId": "812a813d-9815-4151-ce29-9f6a50283a84"
      },
      "execution_count": 6,
      "outputs": [
        {
          "output_type": "execute_result",
          "data": {
            "text/plain": [
              "21"
            ]
          },
          "metadata": {},
          "execution_count": 6
        }
      ]
    }
  ]
}