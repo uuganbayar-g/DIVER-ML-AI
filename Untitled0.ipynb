{
  "nbformat": 4,
  "nbformat_minor": 0,
  "metadata": {
    "colab": {
      "name": "Untitled0.ipynb",
      "provenance": [],
      "toc_visible": true,
      "authorship_tag": "ABX9TyM46cfjligeJLjjWvsB6RwX",
      "include_colab_link": true
    },
    "kernelspec": {
      "name": "python3",
      "display_name": "Python 3"
    },
    "language_info": {
      "name": "python"
    },
    "accelerator": "GPU",
    "gpuClass": "standard"
  },
  "cells": [
    {
      "cell_type": "markdown",
      "metadata": {
        "id": "view-in-github",
        "colab_type": "text"
      },
      "source": [
        "<a href=\"https://colab.research.google.com/github/uuganbayar-g/DIVER-ML-AI/blob/main/Untitled0.ipynb\" target=\"_parent\"><img src=\"https://colab.research.google.com/assets/colab-badge.svg\" alt=\"Open In Colab\"/></a>"
      ]
    },
    {
      "cell_type": "code",
      "execution_count": null,
      "metadata": {
        "colab": {
          "base_uri": "https://localhost:8080/"
        },
        "id": "aHtvzkWi-UME",
        "outputId": "858eedd1-d6d4-474e-945d-271dfc7472a1"
      },
      "outputs": [
        {
          "output_type": "stream",
          "name": "stdout",
          "text": [
            "Hello, World\n",
            "Hello, Python\n"
          ]
        }
      ],
      "source": [
        "print(\"Hello, World\")\n",
        "print(\"Hello, Python\")\n"
      ]
    },
    {
      "cell_type": "markdown",
      "source": [
        "эхний програм"
      ],
      "metadata": {
        "id": "bzVgJJ_a-0ZA"
      }
    },
    {
      "cell_type": "code",
      "source": [
        "num= 5+3\n",
        "print(num)"
      ],
      "metadata": {
        "colab": {
          "base_uri": "https://localhost:8080/"
        },
        "id": "8tYx2LA7-8O1",
        "outputId": "64c15b94-739a-4e35-a037-8468e65fdfc7"
      },
      "execution_count": null,
      "outputs": [
        {
          "output_type": "stream",
          "name": "stdout",
          "text": [
            "8\n"
          ]
        }
      ]
    },
    {
      "cell_type": "code",
      "source": [
        "print(2**1)\n",
        "print(float(2.0))\n",
        "print(type((2.0)))\n",
        "a,b = 100,50\n",
        "print(a)\n",
        "z=1\n",
        "z+=5\n",
        "print(z)"
      ],
      "metadata": {
        "colab": {
          "base_uri": "https://localhost:8080/"
        },
        "id": "0UL9oL0cjgGa",
        "outputId": "3502b27c-61fd-4332-f6b8-8aaed7a2bc5b"
      },
      "execution_count": 6,
      "outputs": [
        {
          "output_type": "stream",
          "name": "stdout",
          "text": [
            "2\n",
            "2.0\n",
            "<class 'float'>\n",
            "100\n",
            "6\n"
          ]
        }
      ]
    },
    {
      "cell_type": "markdown",
      "source": [
        "working with the text in python"
      ],
      "metadata": {
        "id": "p8IB9tsXmhRf"
      }
    },
    {
      "cell_type": "code",
      "source": [
        "my_name = \"Uugan\"\n",
        "print(\"My name is \"+my_name+\".\")\n",
        "temp = 25\n",
        "weather_text = \"unuudriin tsag agaar {}, {} gradus baina.\"\n",
        "weather_text = weather_text.format(\"tselmeg\",temp)\n",
        "print(weather_text)\n",
        "\n",
        "temp_high = 28.33\n",
        "temp_low = 19.25\n",
        "\n",
        "print(\"unuudriin agaariin hem ni hamgiin haluundaa {0:.1f}, hamgiin huitendee {1:.1f} baina.\".format(temp_high,temp_low))"
      ],
      "metadata": {
        "colab": {
          "base_uri": "https://localhost:8080/"
        },
        "id": "ZXmktHTPmqJs",
        "outputId": "a7b9c9cc-34ae-429a-abf7-56781ea1f203"
      },
      "execution_count": 18,
      "outputs": [
        {
          "output_type": "stream",
          "name": "stdout",
          "text": [
            "My name is Uugan.\n",
            "unuudriin tsag agaar tselmeg, 25 gradus baina.\n",
            "unuudriin agaariin hem ni hamgiin haluundaa 28.3, hamgiin huitendee 19.2 baina.\n"
          ]
        }
      ]
    }
  ]
}